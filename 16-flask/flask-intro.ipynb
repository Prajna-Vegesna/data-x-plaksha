{
 "cells": [
  {
   "cell_type": "markdown",
   "metadata": {},
   "source": [
    "# Barebones Flask application"
   ]
  },
  {
   "cell_type": "markdown",
   "metadata": {},
   "source": [
    "Read more about Flask and go through the official Quick start guide here: https://flask.palletsprojects.com/en/1.1.x/quickstart/\n",
    "\n",
    "Learn more about Python decorators: https://realpython.com/primer-on-python-decorators/"
   ]
  },
  {
   "cell_type": "code",
   "execution_count": 2,
   "metadata": {},
   "outputs": [
    {
     "name": "stdout",
     "output_type": "stream",
     "text": [
      " * Serving Flask app \"__name__\" (lazy loading)\n",
      " * Environment: production\n",
      "   WARNING: This is a development server. Do not use it in a production deployment.\n",
      "   Use a production WSGI server instead.\n",
      " * Debug mode: off\n"
     ]
    },
    {
     "name": "stderr",
     "output_type": "stream",
     "text": [
      " * Running on http://127.0.0.1:5000/ (Press CTRL+C to quit)\n"
     ]
    }
   ],
   "source": [
    "from flask import Flask # import Flask class\n",
    "\n",
    "app = Flask('__name__') # Create a Flask instance\n",
    "# name or module. For single application it'd be __name__\n",
    "\n",
    "# Decorator takes another function and extends the behavior of the latter function without explicitly modifying it.\n",
    "@app.route('/') # decorator to tell Flask what URL should trigger the function below\n",
    "def hello_world(): # function that will return results for the webpage\n",
    "    return('Hello World')\n",
    "\n",
    "if __name__ == '__main__':\n",
    "    app.run()"
   ]
  },
  {
   "cell_type": "markdown",
   "metadata": {},
   "source": [
    "# More routes\n",
    "\n",
    "Modern web applications use meaningful URLs to help users. Users are more likely to like a page and come back if the page uses a meaningful URL they can remember and use to directly visit a page.\n",
    "\n",
    "Use the route() decorator to bind a function to a URL."
   ]
  },
  {
   "cell_type": "markdown",
   "metadata": {},
   "source": [
    "### Variable Rules\n",
    "\n",
    "You can add variable sections to a URL by marking sections with \\<variable_name>. Your function then receives the \\<variable_name> as a keyword argument."
   ]
  },
  {
   "cell_type": "code",
   "execution_count": 5,
   "metadata": {},
   "outputs": [
    {
     "name": "stdout",
     "output_type": "stream",
     "text": [
      " * Serving Flask app \"__name__\" (lazy loading)\n",
      " * Environment: production\n",
      "   WARNING: This is a development server. Do not use it in a production deployment.\n",
      "   Use a production WSGI server instead.\n",
      " * Debug mode: off\n"
     ]
    },
    {
     "name": "stderr",
     "output_type": "stream",
     "text": [
      " * Running on http://127.0.0.1:5000/ (Press CTRL+C to quit)\n",
      "127.0.0.1 - - [16/Dec/2020 18:13:24] \"\u001b[37mGET / HTTP/1.1\u001b[0m\" 200 -\n",
      "127.0.0.1 - - [16/Dec/2020 18:13:28] \"\u001b[33mGET /user HTTP/1.1\u001b[0m\" 404 -\n",
      "127.0.0.1 - - [16/Dec/2020 18:13:30] \"\u001b[37mGET /user/alex HTTP/1.1\u001b[0m\" 200 -\n",
      "127.0.0.1 - - [16/Dec/2020 18:13:34] \"\u001b[37mGET /user/tim HTTP/1.1\u001b[0m\" 200 -\n"
     ]
    }
   ],
   "source": [
    "from flask import Flask # import Flask class\n",
    "\n",
    "app = Flask('__name__') # Create a Flask instance\n",
    "# name or module. For single application it'd be __name__\n",
    "\n",
    "# Decorator takes another function and extends the behavior of the latter function without explicitly modifying it.\n",
    "@app.route('/') # decorator to tell Flask what URL should trigger the function below\n",
    "def hello_world():\n",
    "    return('Hello World')\n",
    "\n",
    "@app.route('/hi') # decorator to tell Flask what URL should trigger the function below\n",
    "def hi():\n",
    "    return('Hi World')\n",
    "\n",
    "@app.route('/user/<username>')\n",
    "def show_user_profile(username):\n",
    "    # show the user profile for that user\n",
    "    return('User {}'.format(username))\n",
    "\n",
    "if __name__ == '__main__':\n",
    "    app.run()"
   ]
  },
  {
   "cell_type": "markdown",
   "metadata": {},
   "source": [
    "# Rendering Templates\n",
    "\n",
    "Generating HTML from within Python is not fun, and actually pretty cumbersome because you have to do the HTML escaping on your own to keep the application secure. Because of that Flask configures the Jinja2 template engine for you automatically.\n",
    "\n",
    "To render a template you can use the render_template() method. All you have to do is provide the name of the template and the variables you want to pass to the template engine as keyword arguments. Here’s a simple example of how to render a template:\n",
    "\n",
    "Case 1: a module:\n",
    "\n",
    "    /application.py\n",
    "    /templates\n",
    "        /hello.html\n",
    "\n"
   ]
  },
  {
   "cell_type": "code",
   "execution_count": 8,
   "metadata": {},
   "outputs": [
    {
     "name": "stdout",
     "output_type": "stream",
     "text": [
      " * Serving Flask app \"__name__\" (lazy loading)\n",
      " * Environment: production\n",
      "   WARNING: This is a development server. Do not use it in a production deployment.\n",
      "   Use a production WSGI server instead.\n",
      " * Debug mode: off\n"
     ]
    },
    {
     "name": "stderr",
     "output_type": "stream",
     "text": [
      " * Running on http://127.0.0.1:5000/ (Press CTRL+C to quit)\n",
      "127.0.0.1 - - [16/Dec/2020 18:18:40] \"\u001b[37mGET / HTTP/1.1\u001b[0m\" 200 -\n",
      "127.0.0.1 - - [16/Dec/2020 18:18:43] \"\u001b[37mGET /hello/ HTTP/1.1\u001b[0m\" 200 -\n",
      "127.0.0.1 - - [16/Dec/2020 18:18:46] \"\u001b[37mGET /hello/alex HTTP/1.1\u001b[0m\" 200 -\n"
     ]
    }
   ],
   "source": [
    "from flask import Flask, render_template\n",
    "\n",
    "app = Flask('__name__')\n",
    "\n",
    "@app.route('/') # decorator to tell Flask what URL should trigger the function below\n",
    "def index():\n",
    "    return('Home page')\n",
    "\n",
    "@app.route('/hello/')\n",
    "@app.route('/hello/<name>')\n",
    "def hello(name=None):\n",
    "    return render_template('hello.html', name=name)\n",
    "\n",
    "if __name__ == '__main__':\n",
    "    app.run()"
   ]
  },
  {
   "cell_type": "markdown",
   "metadata": {},
   "source": [
    "# API with JSON\n",
    "\n",
    "A common response format when writing an API is JSON. It’s easy to get started writing such an API with Flask. If you return a dict from a view, it will be converted to a JSON response."
   ]
  },
  {
   "cell_type": "code",
   "execution_count": 10,
   "metadata": {},
   "outputs": [
    {
     "name": "stdout",
     "output_type": "stream",
     "text": [
      " * Serving Flask app \"__name__\" (lazy loading)\n",
      " * Environment: production\n",
      "   WARNING: This is a development server. Do not use it in a production deployment.\n",
      "   Use a production WSGI server instead.\n",
      " * Debug mode: off\n"
     ]
    },
    {
     "name": "stderr",
     "output_type": "stream",
     "text": [
      " * Running on http://127.0.0.1:5000/ (Press CTRL+C to quit)\n",
      "127.0.0.1 - - [16/Dec/2020 18:22:23] \"\u001b[37mGET / HTTP/1.1\u001b[0m\" 200 -\n",
      "127.0.0.1 - - [16/Dec/2020 18:22:25] \"\u001b[37mGET /data HTTP/1.1\u001b[0m\" 200 -\n"
     ]
    }
   ],
   "source": [
    "from flask import Flask, render_template\n",
    "\n",
    "app = Flask('__name__')\n",
    "\n",
    "@app.route('/') # decorator to tell Flask what URL should trigger the function below\n",
    "def index():\n",
    "    return('Home page')\n",
    "\n",
    "\n",
    "d = {'name':'Alex','location':'Sweden'}\n",
    "\n",
    "@app.route(\"/data\")\n",
    "def data():\n",
    "    return(d)\n",
    "\n",
    "\n",
    "if __name__ == '__main__':\n",
    "    app.run()"
   ]
  },
  {
   "cell_type": "markdown",
   "metadata": {},
   "source": [
    "# Forms\n",
    "\n"
   ]
  },
  {
   "cell_type": "code",
   "execution_count": 2,
   "metadata": {},
   "outputs": [
    {
     "name": "stdout",
     "output_type": "stream",
     "text": [
      " * Serving Flask app \"__main__\" (lazy loading)\n",
      " * Environment: production\n",
      "   WARNING: This is a development server. Do not use it in a production deployment.\n",
      "   Use a production WSGI server instead.\n",
      " * Debug mode: off\n"
     ]
    },
    {
     "name": "stderr",
     "output_type": "stream",
     "text": [
      " * Running on http://127.0.0.1:5000/ (Press CTRL+C to quit)\n",
      "127.0.0.1 - - [17/Dec/2020 13:24:08] \"\u001b[37mGET / HTTP/1.1\u001b[0m\" 200 -\n",
      "127.0.0.1 - - [17/Dec/2020 13:24:10] \"\u001b[37mPOST /send HTTP/1.1\u001b[0m\" 200 -\n"
     ]
    }
   ],
   "source": [
    "from flask import Flask, render_template,request\n",
    "app = Flask(__name__)\n",
    "\n",
    "@app.route('/',methods = ['GET'])\n",
    "@app.route('/send',methods = ['GET','POST'])\n",
    "def send():\n",
    "    if request.method == 'POST':\n",
    "        age = request.form['age']\n",
    "        return render_template('age.html',age=age)\n",
    "    return render_template('index.html')\n",
    "\n",
    "if __name__ == '__main__':\n",
    "    app.run()"
   ]
  },
  {
   "cell_type": "code",
   "execution_count": null,
   "metadata": {},
   "outputs": [],
   "source": []
  }
 ],
 "metadata": {
  "kernelspec": {
   "display_name": "Python 3",
   "language": "python",
   "name": "python3"
  },
  "language_info": {
   "codemirror_mode": {
    "name": "ipython",
    "version": 3
   },
   "file_extension": ".py",
   "mimetype": "text/x-python",
   "name": "python",
   "nbconvert_exporter": "python",
   "pygments_lexer": "ipython3",
   "version": "3.7.4"
  }
 },
 "nbformat": 4,
 "nbformat_minor": 4
}
